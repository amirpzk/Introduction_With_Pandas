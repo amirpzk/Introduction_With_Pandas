{
 "cells": [
  {
   "cell_type": "markdown",
   "source": [
    "### An Introduction To\n",
    "**Pandas** is a package for data manipulation and analysis in Python. Pandas is derived the econometrics term *Panel Data*.\n",
    "Panda incorporates two additional data structures into Python, namely **Panda Series** and **Panda DataFrame**.\n",
    "\n",
    "In this essay, we are going to work with some of the most important features of Pandas, and you'll be able to use the basic methods.\n",
    "\n",
    "You'll learn:\n",
    " * How to import Pandas.\n",
    " * How to create Pandas work with series in pandas.\n",
    " * How to access and change elements in Series and DataFrames\n",
    " * How to perform arithmatic operations on Series\n",
    " * How to load into a DataFrame\n",
    " * How to deal with Not a Number(NaN) values\n",
    "\n",
    "#### Downloading Pandas\n",
    "You can use **Anaconda**, If you google \"install anaconda python (mac os x/ linux/ windows), you'll easily can install it.\n",
    "**After that**, you can easily use command *conda install pandas*, and It's **Done**."
   ],
   "metadata": {
    "collapsed": false
   }
  },
  {
   "cell_type": "markdown",
   "source": [
    "###### HOW TO IMPORT PANDAS & CREATE PANDAS SERIES"
   ],
   "metadata": {
    "collapsed": false,
    "pycharm": {
     "name": "#%% md\n"
    }
   }
  },
  {
   "cell_type": "code",
   "execution_count": 1965,
   "metadata": {
    "collapsed": true
   },
   "outputs": [],
   "source": [
    "import pandas as pd\n",
    "groceries = pd.Series(data=[20,4,'Yes','No'], index=['eggs', 'age', 'sex','mashtehsan'])"
   ]
  },
  {
   "cell_type": "code",
   "execution_count": 1966,
   "outputs": [
    {
     "data": {
      "text/plain": "4"
     },
     "execution_count": 1966,
     "metadata": {},
     "output_type": "execute_result"
    }
   ],
   "source": [
    "groceries.size\n"
   ],
   "metadata": {
    "collapsed": false,
    "pycharm": {
     "name": "#%%\n"
    }
   }
  },
  {
   "cell_type": "code",
   "execution_count": 1967,
   "outputs": [],
   "source": [
    "groceries['eggs'] = 123"
   ],
   "metadata": {
    "collapsed": false,
    "pycharm": {
     "name": "#%%\n"
    }
   }
  },
  {
   "cell_type": "code",
   "execution_count": 1968,
   "outputs": [
    {
     "data": {
      "text/plain": "sex    Yes\nage      4\ndtype: object"
     },
     "execution_count": 1968,
     "metadata": {},
     "output_type": "execute_result"
    }
   ],
   "source": [
    "groceries[['sex', 'age']]\n"
   ],
   "metadata": {
    "collapsed": false,
    "pycharm": {
     "name": "#%%\n"
    }
   }
  },
  {
   "cell_type": "code",
   "execution_count": 1969,
   "outputs": [
    {
     "data": {
      "text/plain": "123"
     },
     "execution_count": 1969,
     "metadata": {},
     "output_type": "execute_result"
    }
   ],
   "source": [
    "groceries[0]\n"
   ],
   "metadata": {
    "collapsed": false,
    "pycharm": {
     "name": "#%%\n"
    }
   }
  },
  {
   "cell_type": "code",
   "execution_count": 1970,
   "outputs": [
    {
     "data": {
      "text/plain": "'No'"
     },
     "execution_count": 1970,
     "metadata": {},
     "output_type": "execute_result"
    }
   ],
   "source": [
    "groceries[-1]\n"
   ],
   "metadata": {
    "collapsed": false,
    "pycharm": {
     "name": "#%%\n"
    }
   }
  },
  {
   "cell_type": "code",
   "execution_count": 1971,
   "outputs": [
    {
     "data": {
      "text/plain": "eggs    123\nage       4\ndtype: object"
     },
     "execution_count": 1971,
     "metadata": {},
     "output_type": "execute_result"
    }
   ],
   "source": [
    "groceries[[0,1]]"
   ],
   "metadata": {
    "collapsed": false,
    "pycharm": {
     "name": "#%%\n"
    }
   }
  },
  {
   "cell_type": "code",
   "execution_count": 1972,
   "outputs": [
    {
     "data": {
      "text/plain": "eggs    123\nsex     Yes\ndtype: object"
     },
     "execution_count": 1972,
     "metadata": {},
     "output_type": "execute_result"
    }
   ],
   "source": [
    "groceries.loc[['eggs', 'sex']]"
   ],
   "metadata": {
    "collapsed": false,
    "pycharm": {
     "name": "#%%\n"
    }
   }
  },
  {
   "cell_type": "code",
   "execution_count": 1973,
   "outputs": [
    {
     "data": {
      "text/plain": "eggs    123\nage       4\ndtype: object"
     },
     "execution_count": 1973,
     "metadata": {},
     "output_type": "execute_result"
    }
   ],
   "source": [
    "groceries.iloc[[0, 1]]"
   ],
   "metadata": {
    "collapsed": false,
    "pycharm": {
     "name": "#%%\n"
    }
   }
  },
  {
   "cell_type": "code",
   "execution_count": 1974,
   "outputs": [],
   "source": [
    "groceries.drop('sex', inplace=True)"
   ],
   "metadata": {
    "collapsed": false,
    "pycharm": {
     "name": "#%%\n"
    }
   }
  },
  {
   "cell_type": "markdown",
   "source": [
    "##### CREATING PANDAS DATAFRAMES"
   ],
   "metadata": {
    "collapsed": false,
    "pycharm": {
     "name": "#%% md\n"
    }
   }
  },
  {
   "cell_type": "code",
   "execution_count": 1975,
   "outputs": [
    {
     "data": {
      "text/plain": "dict"
     },
     "execution_count": 1975,
     "metadata": {},
     "output_type": "execute_result"
    }
   ],
   "source": [
    "items = {'Amir': pd.Series([245, 25, 55], index=['bike', 'pants', 'perfume']),\n",
    "         'Shirin': pd.Series([40, 110, 56, 600], index=['perfume', 'boat', 'coffe', 'phone_charger'])}\n",
    "type(items)"
   ],
   "metadata": {
    "collapsed": false,
    "pycharm": {
     "name": "#%%\n"
    }
   }
  },
  {
   "cell_type": "code",
   "execution_count": 1976,
   "outputs": [
    {
     "data": {
      "text/plain": "                Amir  Shirin\nbike           245.0     NaN\nboat             NaN   110.0\ncoffe            NaN    56.0\npants           25.0     NaN\nperfume         55.0    40.0\nphone_charger    NaN   600.0",
      "text/html": "<div>\n<style scoped>\n    .dataframe tbody tr th:only-of-type {\n        vertical-align: middle;\n    }\n\n    .dataframe tbody tr th {\n        vertical-align: top;\n    }\n\n    .dataframe thead th {\n        text-align: right;\n    }\n</style>\n<table border=\"1\" class=\"dataframe\">\n  <thead>\n    <tr style=\"text-align: right;\">\n      <th></th>\n      <th>Amir</th>\n      <th>Shirin</th>\n    </tr>\n  </thead>\n  <tbody>\n    <tr>\n      <th>bike</th>\n      <td>245.0</td>\n      <td>NaN</td>\n    </tr>\n    <tr>\n      <th>boat</th>\n      <td>NaN</td>\n      <td>110.0</td>\n    </tr>\n    <tr>\n      <th>coffe</th>\n      <td>NaN</td>\n      <td>56.0</td>\n    </tr>\n    <tr>\n      <th>pants</th>\n      <td>25.0</td>\n      <td>NaN</td>\n    </tr>\n    <tr>\n      <th>perfume</th>\n      <td>55.0</td>\n      <td>40.0</td>\n    </tr>\n    <tr>\n      <th>phone_charger</th>\n      <td>NaN</td>\n      <td>600.0</td>\n    </tr>\n  </tbody>\n</table>\n</div>"
     },
     "execution_count": 1976,
     "metadata": {},
     "output_type": "execute_result"
    }
   ],
   "source": [
    "shoppin_carts = pd.DataFrame(items)\n",
    "shoppin_carts"
   ],
   "metadata": {
    "collapsed": false,
    "pycharm": {
     "name": "#%%\n"
    }
   }
  },
  {
   "cell_type": "code",
   "execution_count": 1977,
   "outputs": [
    {
     "data": {
      "text/plain": "               Shirin\nperfume            40\nboat              110\ncoffe              56\nphone_charger     600",
      "text/html": "<div>\n<style scoped>\n    .dataframe tbody tr th:only-of-type {\n        vertical-align: middle;\n    }\n\n    .dataframe tbody tr th {\n        vertical-align: top;\n    }\n\n    .dataframe thead th {\n        text-align: right;\n    }\n</style>\n<table border=\"1\" class=\"dataframe\">\n  <thead>\n    <tr style=\"text-align: right;\">\n      <th></th>\n      <th>Shirin</th>\n    </tr>\n  </thead>\n  <tbody>\n    <tr>\n      <th>perfume</th>\n      <td>40</td>\n    </tr>\n    <tr>\n      <th>boat</th>\n      <td>110</td>\n    </tr>\n    <tr>\n      <th>coffe</th>\n      <td>56</td>\n    </tr>\n    <tr>\n      <th>phone_charger</th>\n      <td>600</td>\n    </tr>\n  </tbody>\n</table>\n</div>"
     },
     "execution_count": 1977,
     "metadata": {},
     "output_type": "execute_result"
    }
   ],
   "source": [
    "shirin_shopping_cart = pd.DataFrame(items, columns=['Shirin'])\n",
    "shirin_shopping_cart"
   ],
   "metadata": {
    "collapsed": false,
    "pycharm": {
     "name": "#%%\n"
    }
   }
  },
  {
   "cell_type": "code",
   "execution_count": 1978,
   "outputs": [
    {
     "data": {
      "text/plain": "       Amir  Shirin\npants  25.0     NaN\nbook    NaN     NaN",
      "text/html": "<div>\n<style scoped>\n    .dataframe tbody tr th:only-of-type {\n        vertical-align: middle;\n    }\n\n    .dataframe tbody tr th {\n        vertical-align: top;\n    }\n\n    .dataframe thead th {\n        text-align: right;\n    }\n</style>\n<table border=\"1\" class=\"dataframe\">\n  <thead>\n    <tr style=\"text-align: right;\">\n      <th></th>\n      <th>Amir</th>\n      <th>Shirin</th>\n    </tr>\n  </thead>\n  <tbody>\n    <tr>\n      <th>pants</th>\n      <td>25.0</td>\n      <td>NaN</td>\n    </tr>\n    <tr>\n      <th>book</th>\n      <td>NaN</td>\n      <td>NaN</td>\n    </tr>\n  </tbody>\n</table>\n</div>"
     },
     "execution_count": 1978,
     "metadata": {},
     "output_type": "execute_result"
    }
   ],
   "source": [
    "sel_shopping_cart = pd.DataFrame(items, index=['pants', 'book'])\n",
    "sel_shopping_cart"
   ],
   "metadata": {
    "collapsed": false,
    "pycharm": {
     "name": "#%%\n"
    }
   }
  },
  {
   "cell_type": "code",
   "execution_count": 1979,
   "outputs": [
    {
     "data": {
      "text/plain": "         Shirin\nperfume      40\nboat        110",
      "text/html": "<div>\n<style scoped>\n    .dataframe tbody tr th:only-of-type {\n        vertical-align: middle;\n    }\n\n    .dataframe tbody tr th {\n        vertical-align: top;\n    }\n\n    .dataframe thead th {\n        text-align: right;\n    }\n</style>\n<table border=\"1\" class=\"dataframe\">\n  <thead>\n    <tr style=\"text-align: right;\">\n      <th></th>\n      <th>Shirin</th>\n    </tr>\n  </thead>\n  <tbody>\n    <tr>\n      <th>perfume</th>\n      <td>40</td>\n    </tr>\n    <tr>\n      <th>boat</th>\n      <td>110</td>\n    </tr>\n  </tbody>\n</table>\n</div>"
     },
     "execution_count": 1979,
     "metadata": {},
     "output_type": "execute_result"
    }
   ],
   "source": [
    "shirin_sel_shopping_item = pd.DataFrame(items, index=['perfume', 'boat'], columns=['Shirin'])\n",
    "shirin_sel_shopping_item"
   ],
   "metadata": {
    "collapsed": false,
    "pycharm": {
     "name": "#%%\n"
    }
   }
  },
  {
   "cell_type": "code",
   "execution_count": 1980,
   "outputs": [
    {
     "data": {
      "text/plain": "          Integers  Floats\nlablel 1         1     4.6\nlable 2          2     7.4\nlable 3          3     2.5",
      "text/html": "<div>\n<style scoped>\n    .dataframe tbody tr th:only-of-type {\n        vertical-align: middle;\n    }\n\n    .dataframe tbody tr th {\n        vertical-align: top;\n    }\n\n    .dataframe thead th {\n        text-align: right;\n    }\n</style>\n<table border=\"1\" class=\"dataframe\">\n  <thead>\n    <tr style=\"text-align: right;\">\n      <th></th>\n      <th>Integers</th>\n      <th>Floats</th>\n    </tr>\n  </thead>\n  <tbody>\n    <tr>\n      <th>lablel 1</th>\n      <td>1</td>\n      <td>4.6</td>\n    </tr>\n    <tr>\n      <th>lable 2</th>\n      <td>2</td>\n      <td>7.4</td>\n    </tr>\n    <tr>\n      <th>lable 3</th>\n      <td>3</td>\n      <td>2.5</td>\n    </tr>\n  </tbody>\n</table>\n</div>"
     },
     "execution_count": 1980,
     "metadata": {},
     "output_type": "execute_result"
    }
   ],
   "source": [
    "data = {'Integers': [1,2,3],\n",
    "        'Floats': [4.6, 7.4, 2.5]}\n",
    "df = pd.DataFrame(data, index=['lablel 1', 'lable 2', 'lable 3'])\n",
    "df"
   ],
   "metadata": {
    "collapsed": false,
    "pycharm": {
     "name": "#%%\n"
    }
   }
  },
  {
   "cell_type": "code",
   "execution_count": 1981,
   "outputs": [
    {
     "data": {
      "text/plain": "         bikes  pants  watches  glasses\nstore 1     20     30       35      NaN\nstore 2     15      5       10     50.0",
      "text/html": "<div>\n<style scoped>\n    .dataframe tbody tr th:only-of-type {\n        vertical-align: middle;\n    }\n\n    .dataframe tbody tr th {\n        vertical-align: top;\n    }\n\n    .dataframe thead th {\n        text-align: right;\n    }\n</style>\n<table border=\"1\" class=\"dataframe\">\n  <thead>\n    <tr style=\"text-align: right;\">\n      <th></th>\n      <th>bikes</th>\n      <th>pants</th>\n      <th>watches</th>\n      <th>glasses</th>\n    </tr>\n  </thead>\n  <tbody>\n    <tr>\n      <th>store 1</th>\n      <td>20</td>\n      <td>30</td>\n      <td>35</td>\n      <td>NaN</td>\n    </tr>\n    <tr>\n      <th>store 2</th>\n      <td>15</td>\n      <td>5</td>\n      <td>10</td>\n      <td>50.0</td>\n    </tr>\n  </tbody>\n</table>\n</div>"
     },
     "execution_count": 1981,
     "metadata": {},
     "output_type": "execute_result"
    }
   ],
   "source": [
    "items = [{'bikes': 20, 'pants': 30, 'watches': 35}, {'watches': 10, 'glasses': 50, 'bikes': 15, 'pants': 5}]\n",
    "store_items = pd.DataFrame(items, index=['store 1', 'store 2'])\n",
    "store_items"
   ],
   "metadata": {
    "collapsed": false,
    "pycharm": {
     "name": "#%%\n"
    }
   }
  },
  {
   "cell_type": "code",
   "execution_count": 1982,
   "outputs": [
    {
     "data": {
      "text/plain": "         bikes\nstore 1     20\nstore 2     15",
      "text/html": "<div>\n<style scoped>\n    .dataframe tbody tr th:only-of-type {\n        vertical-align: middle;\n    }\n\n    .dataframe tbody tr th {\n        vertical-align: top;\n    }\n\n    .dataframe thead th {\n        text-align: right;\n    }\n</style>\n<table border=\"1\" class=\"dataframe\">\n  <thead>\n    <tr style=\"text-align: right;\">\n      <th></th>\n      <th>bikes</th>\n    </tr>\n  </thead>\n  <tbody>\n    <tr>\n      <th>store 1</th>\n      <td>20</td>\n    </tr>\n    <tr>\n      <th>store 2</th>\n      <td>15</td>\n    </tr>\n  </tbody>\n</table>\n</div>"
     },
     "execution_count": 1982,
     "metadata": {},
     "output_type": "execute_result"
    }
   ],
   "source": [
    "store_items[['bikes']]"
   ],
   "metadata": {
    "collapsed": false,
    "pycharm": {
     "name": "#%%\n"
    }
   }
  },
  {
   "cell_type": "code",
   "execution_count": 1983,
   "outputs": [
    {
     "data": {
      "text/plain": "         bikes  pants\nstore 1     20     30\nstore 2     15      5",
      "text/html": "<div>\n<style scoped>\n    .dataframe tbody tr th:only-of-type {\n        vertical-align: middle;\n    }\n\n    .dataframe tbody tr th {\n        vertical-align: top;\n    }\n\n    .dataframe thead th {\n        text-align: right;\n    }\n</style>\n<table border=\"1\" class=\"dataframe\">\n  <thead>\n    <tr style=\"text-align: right;\">\n      <th></th>\n      <th>bikes</th>\n      <th>pants</th>\n    </tr>\n  </thead>\n  <tbody>\n    <tr>\n      <th>store 1</th>\n      <td>20</td>\n      <td>30</td>\n    </tr>\n    <tr>\n      <th>store 2</th>\n      <td>15</td>\n      <td>5</td>\n    </tr>\n  </tbody>\n</table>\n</div>"
     },
     "execution_count": 1983,
     "metadata": {},
     "output_type": "execute_result"
    }
   ],
   "source": [
    "store_items[['bikes', 'pants']]"
   ],
   "metadata": {
    "collapsed": false,
    "pycharm": {
     "name": "#%%\n"
    }
   }
  },
  {
   "cell_type": "code",
   "execution_count": 1984,
   "outputs": [
    {
     "data": {
      "text/plain": "         bikes  pants  watches  glasses\nstore 1     20     30       35      NaN",
      "text/html": "<div>\n<style scoped>\n    .dataframe tbody tr th:only-of-type {\n        vertical-align: middle;\n    }\n\n    .dataframe tbody tr th {\n        vertical-align: top;\n    }\n\n    .dataframe thead th {\n        text-align: right;\n    }\n</style>\n<table border=\"1\" class=\"dataframe\">\n  <thead>\n    <tr style=\"text-align: right;\">\n      <th></th>\n      <th>bikes</th>\n      <th>pants</th>\n      <th>watches</th>\n      <th>glasses</th>\n    </tr>\n  </thead>\n  <tbody>\n    <tr>\n      <th>store 1</th>\n      <td>20</td>\n      <td>30</td>\n      <td>35</td>\n      <td>NaN</td>\n    </tr>\n  </tbody>\n</table>\n</div>"
     },
     "execution_count": 1984,
     "metadata": {},
     "output_type": "execute_result"
    }
   ],
   "source": [
    "store_items.loc[['store 1']]"
   ],
   "metadata": {
    "collapsed": false,
    "pycharm": {
     "name": "#%%\n"
    }
   }
  },
  {
   "cell_type": "code",
   "execution_count": 1985,
   "outputs": [
    {
     "data": {
      "text/plain": "15"
     },
     "execution_count": 1985,
     "metadata": {},
     "output_type": "execute_result"
    }
   ],
   "source": [
    "store_items['bikes']['store 2']"
   ],
   "metadata": {
    "collapsed": false,
    "pycharm": {
     "name": "#%%\n"
    }
   }
  },
  {
   "cell_type": "code",
   "execution_count": 1986,
   "outputs": [
    {
     "data": {
      "text/plain": "         bikes  pants  watches  glasses  shirts\nstore 1     20     30       35      NaN      65\nstore 2     15      5       10     50.0      78",
      "text/html": "<div>\n<style scoped>\n    .dataframe tbody tr th:only-of-type {\n        vertical-align: middle;\n    }\n\n    .dataframe tbody tr th {\n        vertical-align: top;\n    }\n\n    .dataframe thead th {\n        text-align: right;\n    }\n</style>\n<table border=\"1\" class=\"dataframe\">\n  <thead>\n    <tr style=\"text-align: right;\">\n      <th></th>\n      <th>bikes</th>\n      <th>pants</th>\n      <th>watches</th>\n      <th>glasses</th>\n      <th>shirts</th>\n    </tr>\n  </thead>\n  <tbody>\n    <tr>\n      <th>store 1</th>\n      <td>20</td>\n      <td>30</td>\n      <td>35</td>\n      <td>NaN</td>\n      <td>65</td>\n    </tr>\n    <tr>\n      <th>store 2</th>\n      <td>15</td>\n      <td>5</td>\n      <td>10</td>\n      <td>50.0</td>\n      <td>78</td>\n    </tr>\n  </tbody>\n</table>\n</div>"
     },
     "execution_count": 1986,
     "metadata": {},
     "output_type": "execute_result"
    }
   ],
   "source": [
    "store_items['shirts'] = [65, 78]\n",
    "store_items"
   ],
   "metadata": {
    "collapsed": false,
    "pycharm": {
     "name": "#%%\n"
    }
   }
  },
  {
   "cell_type": "code",
   "execution_count": 1987,
   "outputs": [
    {
     "data": {
      "text/plain": "         bikes  pants  watches  glasses  shirts  suits\nstore 1     20     30       35      NaN      65     95\nstore 2     15      5       10     50.0      78     83",
      "text/html": "<div>\n<style scoped>\n    .dataframe tbody tr th:only-of-type {\n        vertical-align: middle;\n    }\n\n    .dataframe tbody tr th {\n        vertical-align: top;\n    }\n\n    .dataframe thead th {\n        text-align: right;\n    }\n</style>\n<table border=\"1\" class=\"dataframe\">\n  <thead>\n    <tr style=\"text-align: right;\">\n      <th></th>\n      <th>bikes</th>\n      <th>pants</th>\n      <th>watches</th>\n      <th>glasses</th>\n      <th>shirts</th>\n      <th>suits</th>\n    </tr>\n  </thead>\n  <tbody>\n    <tr>\n      <th>store 1</th>\n      <td>20</td>\n      <td>30</td>\n      <td>35</td>\n      <td>NaN</td>\n      <td>65</td>\n      <td>95</td>\n    </tr>\n    <tr>\n      <th>store 2</th>\n      <td>15</td>\n      <td>5</td>\n      <td>10</td>\n      <td>50.0</td>\n      <td>78</td>\n      <td>83</td>\n    </tr>\n  </tbody>\n</table>\n</div>"
     },
     "execution_count": 1987,
     "metadata": {},
     "output_type": "execute_result"
    }
   ],
   "source": [
    "store_items['suits'] = store_items['shirts'] + store_items['pants']\n",
    "store_items"
   ],
   "metadata": {
    "collapsed": false,
    "pycharm": {
     "name": "#%%\n"
    }
   }
  },
  {
   "cell_type": "code",
   "execution_count": 1988,
   "outputs": [
    {
     "data": {
      "text/plain": "         bikes  pants  watches  glasses\nstore 3     20     30       35        4",
      "text/html": "<div>\n<style scoped>\n    .dataframe tbody tr th:only-of-type {\n        vertical-align: middle;\n    }\n\n    .dataframe tbody tr th {\n        vertical-align: top;\n    }\n\n    .dataframe thead th {\n        text-align: right;\n    }\n</style>\n<table border=\"1\" class=\"dataframe\">\n  <thead>\n    <tr style=\"text-align: right;\">\n      <th></th>\n      <th>bikes</th>\n      <th>pants</th>\n      <th>watches</th>\n      <th>glasses</th>\n    </tr>\n  </thead>\n  <tbody>\n    <tr>\n      <th>store 3</th>\n      <td>20</td>\n      <td>30</td>\n      <td>35</td>\n      <td>4</td>\n    </tr>\n  </tbody>\n</table>\n</div>"
     },
     "execution_count": 1988,
     "metadata": {},
     "output_type": "execute_result"
    }
   ],
   "source": [
    "new_items = [{'bikes': 20, 'pants': 30, 'watches': 35, 'glasses': 4 }]\n",
    "\n",
    "new_store = pd.DataFrame(new_items, index=['store 3'])\n",
    "new_store"
   ],
   "metadata": {
    "collapsed": false,
    "pycharm": {
     "name": "#%%\n"
    }
   }
  },
  {
   "cell_type": "code",
   "execution_count": 1989,
   "outputs": [
    {
     "data": {
      "text/plain": "         bikes  pants  watches  glasses  shirts  suits\nstore 1     20     30       35      NaN    65.0   95.0\nstore 2     15      5       10     50.0    78.0   83.0\nstore 3     20     30       35      4.0     NaN    NaN",
      "text/html": "<div>\n<style scoped>\n    .dataframe tbody tr th:only-of-type {\n        vertical-align: middle;\n    }\n\n    .dataframe tbody tr th {\n        vertical-align: top;\n    }\n\n    .dataframe thead th {\n        text-align: right;\n    }\n</style>\n<table border=\"1\" class=\"dataframe\">\n  <thead>\n    <tr style=\"text-align: right;\">\n      <th></th>\n      <th>bikes</th>\n      <th>pants</th>\n      <th>watches</th>\n      <th>glasses</th>\n      <th>shirts</th>\n      <th>suits</th>\n    </tr>\n  </thead>\n  <tbody>\n    <tr>\n      <th>store 1</th>\n      <td>20</td>\n      <td>30</td>\n      <td>35</td>\n      <td>NaN</td>\n      <td>65.0</td>\n      <td>95.0</td>\n    </tr>\n    <tr>\n      <th>store 2</th>\n      <td>15</td>\n      <td>5</td>\n      <td>10</td>\n      <td>50.0</td>\n      <td>78.0</td>\n      <td>83.0</td>\n    </tr>\n    <tr>\n      <th>store 3</th>\n      <td>20</td>\n      <td>30</td>\n      <td>35</td>\n      <td>4.0</td>\n      <td>NaN</td>\n      <td>NaN</td>\n    </tr>\n  </tbody>\n</table>\n</div>"
     },
     "execution_count": 1989,
     "metadata": {},
     "output_type": "execute_result"
    }
   ],
   "source": [
    "store_items = store_items.append(new_store)\n",
    "store_items"
   ],
   "metadata": {
    "collapsed": false,
    "pycharm": {
     "name": "#%%\n"
    }
   }
  },
  {
   "cell_type": "code",
   "execution_count": 1990,
   "outputs": [
    {
     "data": {
      "text/plain": "         bikes  pants  watches  glasses  shirts  suits  new_watches\nstore 1     20     30       35      NaN    65.0   95.0          NaN\nstore 2     15      5       10     50.0    78.0   83.0         10.0\nstore 3     20     30       35      4.0     NaN    NaN         35.0",
      "text/html": "<div>\n<style scoped>\n    .dataframe tbody tr th:only-of-type {\n        vertical-align: middle;\n    }\n\n    .dataframe tbody tr th {\n        vertical-align: top;\n    }\n\n    .dataframe thead th {\n        text-align: right;\n    }\n</style>\n<table border=\"1\" class=\"dataframe\">\n  <thead>\n    <tr style=\"text-align: right;\">\n      <th></th>\n      <th>bikes</th>\n      <th>pants</th>\n      <th>watches</th>\n      <th>glasses</th>\n      <th>shirts</th>\n      <th>suits</th>\n      <th>new_watches</th>\n    </tr>\n  </thead>\n  <tbody>\n    <tr>\n      <th>store 1</th>\n      <td>20</td>\n      <td>30</td>\n      <td>35</td>\n      <td>NaN</td>\n      <td>65.0</td>\n      <td>95.0</td>\n      <td>NaN</td>\n    </tr>\n    <tr>\n      <th>store 2</th>\n      <td>15</td>\n      <td>5</td>\n      <td>10</td>\n      <td>50.0</td>\n      <td>78.0</td>\n      <td>83.0</td>\n      <td>10.0</td>\n    </tr>\n    <tr>\n      <th>store 3</th>\n      <td>20</td>\n      <td>30</td>\n      <td>35</td>\n      <td>4.0</td>\n      <td>NaN</td>\n      <td>NaN</td>\n      <td>35.0</td>\n    </tr>\n  </tbody>\n</table>\n</div>"
     },
     "execution_count": 1990,
     "metadata": {},
     "output_type": "execute_result"
    }
   ],
   "source": [
    "store_items['new_watches'] = store_items['watches'][1:]\n",
    "store_items"
   ],
   "metadata": {
    "collapsed": false,
    "pycharm": {
     "name": "#%%\n"
    }
   }
  },
  {
   "cell_type": "code",
   "execution_count": 1991,
   "outputs": [
    {
     "data": {
      "text/plain": "         bikes  pants  watches  glasses  shirts  shoes  suits  new_watches\nstore 1     20     30       35      NaN    65.0      8   95.0          NaN\nstore 2     15      5       10     50.0    78.0      5   83.0         10.0\nstore 3     20     30       35      4.0     NaN      0    NaN         35.0",
      "text/html": "<div>\n<style scoped>\n    .dataframe tbody tr th:only-of-type {\n        vertical-align: middle;\n    }\n\n    .dataframe tbody tr th {\n        vertical-align: top;\n    }\n\n    .dataframe thead th {\n        text-align: right;\n    }\n</style>\n<table border=\"1\" class=\"dataframe\">\n  <thead>\n    <tr style=\"text-align: right;\">\n      <th></th>\n      <th>bikes</th>\n      <th>pants</th>\n      <th>watches</th>\n      <th>glasses</th>\n      <th>shirts</th>\n      <th>shoes</th>\n      <th>suits</th>\n      <th>new_watches</th>\n    </tr>\n  </thead>\n  <tbody>\n    <tr>\n      <th>store 1</th>\n      <td>20</td>\n      <td>30</td>\n      <td>35</td>\n      <td>NaN</td>\n      <td>65.0</td>\n      <td>8</td>\n      <td>95.0</td>\n      <td>NaN</td>\n    </tr>\n    <tr>\n      <th>store 2</th>\n      <td>15</td>\n      <td>5</td>\n      <td>10</td>\n      <td>50.0</td>\n      <td>78.0</td>\n      <td>5</td>\n      <td>83.0</td>\n      <td>10.0</td>\n    </tr>\n    <tr>\n      <th>store 3</th>\n      <td>20</td>\n      <td>30</td>\n      <td>35</td>\n      <td>4.0</td>\n      <td>NaN</td>\n      <td>0</td>\n      <td>NaN</td>\n      <td>35.0</td>\n    </tr>\n  </tbody>\n</table>\n</div>"
     },
     "execution_count": 1991,
     "metadata": {},
     "output_type": "execute_result"
    }
   ],
   "source": [
    "store_items.insert(5, 'shoes', [8, 5, 0])\n",
    "store_items"
   ],
   "metadata": {
    "collapsed": false,
    "pycharm": {
     "name": "#%%\n"
    }
   }
  },
  {
   "cell_type": "code",
   "execution_count": 1992,
   "outputs": [
    {
     "data": {
      "text/plain": "         bikes  pants  watches  glasses  shirts  shoes  suits\nstore 1     20     30       35      NaN    65.0      8   95.0\nstore 2     15      5       10     50.0    78.0      5   83.0\nstore 3     20     30       35      4.0     NaN      0    NaN",
      "text/html": "<div>\n<style scoped>\n    .dataframe tbody tr th:only-of-type {\n        vertical-align: middle;\n    }\n\n    .dataframe tbody tr th {\n        vertical-align: top;\n    }\n\n    .dataframe thead th {\n        text-align: right;\n    }\n</style>\n<table border=\"1\" class=\"dataframe\">\n  <thead>\n    <tr style=\"text-align: right;\">\n      <th></th>\n      <th>bikes</th>\n      <th>pants</th>\n      <th>watches</th>\n      <th>glasses</th>\n      <th>shirts</th>\n      <th>shoes</th>\n      <th>suits</th>\n    </tr>\n  </thead>\n  <tbody>\n    <tr>\n      <th>store 1</th>\n      <td>20</td>\n      <td>30</td>\n      <td>35</td>\n      <td>NaN</td>\n      <td>65.0</td>\n      <td>8</td>\n      <td>95.0</td>\n    </tr>\n    <tr>\n      <th>store 2</th>\n      <td>15</td>\n      <td>5</td>\n      <td>10</td>\n      <td>50.0</td>\n      <td>78.0</td>\n      <td>5</td>\n      <td>83.0</td>\n    </tr>\n    <tr>\n      <th>store 3</th>\n      <td>20</td>\n      <td>30</td>\n      <td>35</td>\n      <td>4.0</td>\n      <td>NaN</td>\n      <td>0</td>\n      <td>NaN</td>\n    </tr>\n  </tbody>\n</table>\n</div>"
     },
     "execution_count": 1992,
     "metadata": {},
     "output_type": "execute_result"
    }
   ],
   "source": [
    "store_items.pop('new_watches')\n",
    "store_items"
   ],
   "metadata": {
    "collapsed": false,
    "pycharm": {
     "name": "#%%\n"
    }
   }
  },
  {
   "cell_type": "code",
   "execution_count": 1993,
   "outputs": [
    {
     "data": {
      "text/plain": "         bikes  pants  glasses  shirts  suits\nstore 1     20     30      NaN    65.0   95.0\nstore 2     15      5     50.0    78.0   83.0\nstore 3     20     30      4.0     NaN    NaN",
      "text/html": "<div>\n<style scoped>\n    .dataframe tbody tr th:only-of-type {\n        vertical-align: middle;\n    }\n\n    .dataframe tbody tr th {\n        vertical-align: top;\n    }\n\n    .dataframe thead th {\n        text-align: right;\n    }\n</style>\n<table border=\"1\" class=\"dataframe\">\n  <thead>\n    <tr style=\"text-align: right;\">\n      <th></th>\n      <th>bikes</th>\n      <th>pants</th>\n      <th>glasses</th>\n      <th>shirts</th>\n      <th>suits</th>\n    </tr>\n  </thead>\n  <tbody>\n    <tr>\n      <th>store 1</th>\n      <td>20</td>\n      <td>30</td>\n      <td>NaN</td>\n      <td>65.0</td>\n      <td>95.0</td>\n    </tr>\n    <tr>\n      <th>store 2</th>\n      <td>15</td>\n      <td>5</td>\n      <td>50.0</td>\n      <td>78.0</td>\n      <td>83.0</td>\n    </tr>\n    <tr>\n      <th>store 3</th>\n      <td>20</td>\n      <td>30</td>\n      <td>4.0</td>\n      <td>NaN</td>\n      <td>NaN</td>\n    </tr>\n  </tbody>\n</table>\n</div>"
     },
     "execution_count": 1993,
     "metadata": {},
     "output_type": "execute_result"
    }
   ],
   "source": [
    "store_items = store_items.drop(['watches', 'shoes'], axis=1)\n",
    "store_items"
   ],
   "metadata": {
    "collapsed": false,
    "pycharm": {
     "name": "#%%\n"
    }
   }
  },
  {
   "cell_type": "code",
   "execution_count": 1994,
   "outputs": [
    {
     "data": {
      "text/plain": "         bikes  pants  glasses  shirts  suits\nstore 1     20     30      NaN    65.0   95.0\nstore 3     20     30      4.0     NaN    NaN",
      "text/html": "<div>\n<style scoped>\n    .dataframe tbody tr th:only-of-type {\n        vertical-align: middle;\n    }\n\n    .dataframe tbody tr th {\n        vertical-align: top;\n    }\n\n    .dataframe thead th {\n        text-align: right;\n    }\n</style>\n<table border=\"1\" class=\"dataframe\">\n  <thead>\n    <tr style=\"text-align: right;\">\n      <th></th>\n      <th>bikes</th>\n      <th>pants</th>\n      <th>glasses</th>\n      <th>shirts</th>\n      <th>suits</th>\n    </tr>\n  </thead>\n  <tbody>\n    <tr>\n      <th>store 1</th>\n      <td>20</td>\n      <td>30</td>\n      <td>NaN</td>\n      <td>65.0</td>\n      <td>95.0</td>\n    </tr>\n    <tr>\n      <th>store 3</th>\n      <td>20</td>\n      <td>30</td>\n      <td>4.0</td>\n      <td>NaN</td>\n      <td>NaN</td>\n    </tr>\n  </tbody>\n</table>\n</div>"
     },
     "execution_count": 1994,
     "metadata": {},
     "output_type": "execute_result"
    }
   ],
   "source": [
    "store_items = store_items.drop(['store 2'], axis=0)\n",
    "store_items"
   ],
   "metadata": {
    "collapsed": false,
    "pycharm": {
     "name": "#%%\n"
    }
   }
  },
  {
   "cell_type": "code",
   "execution_count": 1995,
   "outputs": [
    {
     "data": {
      "text/plain": "         hats  pants  glasses  shirts  suits\nstore 1    20     30      NaN    65.0   95.0\nstore 3    20     30      4.0     NaN    NaN",
      "text/html": "<div>\n<style scoped>\n    .dataframe tbody tr th:only-of-type {\n        vertical-align: middle;\n    }\n\n    .dataframe tbody tr th {\n        vertical-align: top;\n    }\n\n    .dataframe thead th {\n        text-align: right;\n    }\n</style>\n<table border=\"1\" class=\"dataframe\">\n  <thead>\n    <tr style=\"text-align: right;\">\n      <th></th>\n      <th>hats</th>\n      <th>pants</th>\n      <th>glasses</th>\n      <th>shirts</th>\n      <th>suits</th>\n    </tr>\n  </thead>\n  <tbody>\n    <tr>\n      <th>store 1</th>\n      <td>20</td>\n      <td>30</td>\n      <td>NaN</td>\n      <td>65.0</td>\n      <td>95.0</td>\n    </tr>\n    <tr>\n      <th>store 3</th>\n      <td>20</td>\n      <td>30</td>\n      <td>4.0</td>\n      <td>NaN</td>\n      <td>NaN</td>\n    </tr>\n  </tbody>\n</table>\n</div>"
     },
     "execution_count": 1995,
     "metadata": {},
     "output_type": "execute_result"
    }
   ],
   "source": [
    "store_items = store_items.rename(columns={'bikes': 'hats'})\n",
    "store_items"
   ],
   "metadata": {
    "collapsed": false,
    "pycharm": {
     "name": "#%%\n"
    }
   }
  },
  {
   "cell_type": "code",
   "execution_count": 1996,
   "outputs": [
    {
     "data": {
      "text/plain": "         hats  pants  glasses  shirts  suits\nstore 1    20     30      NaN    65.0   95.0\nstore 2    20     30      4.0     NaN    NaN",
      "text/html": "<div>\n<style scoped>\n    .dataframe tbody tr th:only-of-type {\n        vertical-align: middle;\n    }\n\n    .dataframe tbody tr th {\n        vertical-align: top;\n    }\n\n    .dataframe thead th {\n        text-align: right;\n    }\n</style>\n<table border=\"1\" class=\"dataframe\">\n  <thead>\n    <tr style=\"text-align: right;\">\n      <th></th>\n      <th>hats</th>\n      <th>pants</th>\n      <th>glasses</th>\n      <th>shirts</th>\n      <th>suits</th>\n    </tr>\n  </thead>\n  <tbody>\n    <tr>\n      <th>store 1</th>\n      <td>20</td>\n      <td>30</td>\n      <td>NaN</td>\n      <td>65.0</td>\n      <td>95.0</td>\n    </tr>\n    <tr>\n      <th>store 2</th>\n      <td>20</td>\n      <td>30</td>\n      <td>4.0</td>\n      <td>NaN</td>\n      <td>NaN</td>\n    </tr>\n  </tbody>\n</table>\n</div>"
     },
     "execution_count": 1996,
     "metadata": {},
     "output_type": "execute_result"
    }
   ],
   "source": [
    "store_items = store_items.rename(index={'store 3': 'store 2'})\n",
    "store_items"
   ],
   "metadata": {
    "collapsed": false,
    "pycharm": {
     "name": "#%%\n"
    }
   }
  },
  {
   "cell_type": "code",
   "execution_count": 1997,
   "outputs": [
    {
     "data": {
      "text/plain": "       hats  glasses  shirts  suits\npants                              \n30       20      NaN    65.0   95.0\n30       20      4.0     NaN    NaN",
      "text/html": "<div>\n<style scoped>\n    .dataframe tbody tr th:only-of-type {\n        vertical-align: middle;\n    }\n\n    .dataframe tbody tr th {\n        vertical-align: top;\n    }\n\n    .dataframe thead th {\n        text-align: right;\n    }\n</style>\n<table border=\"1\" class=\"dataframe\">\n  <thead>\n    <tr style=\"text-align: right;\">\n      <th></th>\n      <th>hats</th>\n      <th>glasses</th>\n      <th>shirts</th>\n      <th>suits</th>\n    </tr>\n    <tr>\n      <th>pants</th>\n      <th></th>\n      <th></th>\n      <th></th>\n      <th></th>\n    </tr>\n  </thead>\n  <tbody>\n    <tr>\n      <th>30</th>\n      <td>20</td>\n      <td>NaN</td>\n      <td>65.0</td>\n      <td>95.0</td>\n    </tr>\n    <tr>\n      <th>30</th>\n      <td>20</td>\n      <td>4.0</td>\n      <td>NaN</td>\n      <td>NaN</td>\n    </tr>\n  </tbody>\n</table>\n</div>"
     },
     "execution_count": 1997,
     "metadata": {},
     "output_type": "execute_result"
    }
   ],
   "source": [
    "store_items = store_items.set_index('pants')\n",
    "store_items"
   ],
   "metadata": {
    "collapsed": false,
    "pycharm": {
     "name": "#%%\n"
    }
   }
  },
  {
   "cell_type": "markdown",
   "source": [
    "##### DEALING WITH NAN"
   ],
   "metadata": {
    "collapsed": false,
    "pycharm": {
     "name": "#%% md\n"
    }
   }
  },
  {
   "cell_type": "code",
   "execution_count": 1998,
   "outputs": [
    {
     "data": {
      "text/plain": "         bikes  pants  watches  shirts  shoes  suits  glasses\nstore 1     20     30       35    15.0      8   45.0      NaN\nstore 2     15      5       10     2.0      5    7.0     50.0\nstore 3     20     30       35     NaN     10    NaN      4.0",
      "text/html": "<div>\n<style scoped>\n    .dataframe tbody tr th:only-of-type {\n        vertical-align: middle;\n    }\n\n    .dataframe tbody tr th {\n        vertical-align: top;\n    }\n\n    .dataframe thead th {\n        text-align: right;\n    }\n</style>\n<table border=\"1\" class=\"dataframe\">\n  <thead>\n    <tr style=\"text-align: right;\">\n      <th></th>\n      <th>bikes</th>\n      <th>pants</th>\n      <th>watches</th>\n      <th>shirts</th>\n      <th>shoes</th>\n      <th>suits</th>\n      <th>glasses</th>\n    </tr>\n  </thead>\n  <tbody>\n    <tr>\n      <th>store 1</th>\n      <td>20</td>\n      <td>30</td>\n      <td>35</td>\n      <td>15.0</td>\n      <td>8</td>\n      <td>45.0</td>\n      <td>NaN</td>\n    </tr>\n    <tr>\n      <th>store 2</th>\n      <td>15</td>\n      <td>5</td>\n      <td>10</td>\n      <td>2.0</td>\n      <td>5</td>\n      <td>7.0</td>\n      <td>50.0</td>\n    </tr>\n    <tr>\n      <th>store 3</th>\n      <td>20</td>\n      <td>30</td>\n      <td>35</td>\n      <td>NaN</td>\n      <td>10</td>\n      <td>NaN</td>\n      <td>4.0</td>\n    </tr>\n  </tbody>\n</table>\n</div>"
     },
     "execution_count": 1998,
     "metadata": {},
     "output_type": "execute_result"
    }
   ],
   "source": [
    "items = [{'bikes': 20, 'pants': 30, 'watches': 35, 'shirts': 15, 'shoes': 8, 'suits': 45},\n",
    "         {'watches': 10, 'glasses': 50, 'bikes': 15, 'pants': 5, 'shirts': 2, 'shoes': 5, 'suits': 7},\n",
    "         {'bikes': 20, 'pants': 30, 'watches': 35, 'glasses': 4, 'shoes': 10}]\n",
    "store_items = pd.DataFrame(items, index=['store 1', 'store 2', 'store 3'])\n",
    "store_items"
   ],
   "metadata": {
    "collapsed": false,
    "pycharm": {
     "name": "#%%\n"
    }
   }
  },
  {
   "cell_type": "code",
   "execution_count": 1999,
   "outputs": [
    {
     "name": "stdout",
     "output_type": "stream",
     "text": [
      "3\n"
     ]
    }
   ],
   "source": [
    "x = store_items.isnull().sum().sum()\n",
    "print(x)"
   ],
   "metadata": {
    "collapsed": false,
    "pycharm": {
     "name": "#%%\n"
    }
   }
  },
  {
   "cell_type": "code",
   "execution_count": 2000,
   "outputs": [
    {
     "name": "stdout",
     "output_type": "stream",
     "text": [
      "         bikes  pants  watches  shirts  shoes  suits  glasses\n",
      "store 1  False  False    False   False  False  False     True\n",
      "store 2  False  False    False   False  False  False    False\n",
      "store 3  False  False    False    True  False   True    False\n"
     ]
    }
   ],
   "source": [
    "x = store_items.isnull()\n",
    "print(x)"
   ],
   "metadata": {
    "collapsed": false,
    "pycharm": {
     "name": "#%%\n"
    }
   }
  },
  {
   "cell_type": "code",
   "execution_count": 2001,
   "outputs": [
    {
     "name": "stdout",
     "output_type": "stream",
     "text": [
      "bikes      0\n",
      "pants      0\n",
      "watches    0\n",
      "shirts     1\n",
      "shoes      0\n",
      "suits      1\n",
      "glasses    1\n",
      "dtype: int64\n"
     ]
    }
   ],
   "source": [
    "x = store_items.isnull().sum()\n",
    "print(x)"
   ],
   "metadata": {
    "collapsed": false,
    "pycharm": {
     "name": "#%%\n"
    }
   }
  },
  {
   "cell_type": "code",
   "execution_count": 2002,
   "outputs": [
    {
     "data": {
      "text/plain": "bikes      3\npants      3\nwatches    3\nshirts     2\nshoes      3\nsuits      2\nglasses    2\ndtype: int64"
     },
     "execution_count": 2002,
     "metadata": {},
     "output_type": "execute_result"
    }
   ],
   "source": [
    "store_items.count()"
   ],
   "metadata": {
    "collapsed": false,
    "pycharm": {
     "name": "#%%\n"
    }
   }
  },
  {
   "cell_type": "code",
   "execution_count": 2003,
   "outputs": [
    {
     "data": {
      "text/plain": "         bikes  pants  watches  shirts  shoes  suits  glasses\nstore 2     15      5       10     2.0      5    7.0     50.0",
      "text/html": "<div>\n<style scoped>\n    .dataframe tbody tr th:only-of-type {\n        vertical-align: middle;\n    }\n\n    .dataframe tbody tr th {\n        vertical-align: top;\n    }\n\n    .dataframe thead th {\n        text-align: right;\n    }\n</style>\n<table border=\"1\" class=\"dataframe\">\n  <thead>\n    <tr style=\"text-align: right;\">\n      <th></th>\n      <th>bikes</th>\n      <th>pants</th>\n      <th>watches</th>\n      <th>shirts</th>\n      <th>shoes</th>\n      <th>suits</th>\n      <th>glasses</th>\n    </tr>\n  </thead>\n  <tbody>\n    <tr>\n      <th>store 2</th>\n      <td>15</td>\n      <td>5</td>\n      <td>10</td>\n      <td>2.0</td>\n      <td>5</td>\n      <td>7.0</td>\n      <td>50.0</td>\n    </tr>\n  </tbody>\n</table>\n</div>"
     },
     "execution_count": 2003,
     "metadata": {},
     "output_type": "execute_result"
    }
   ],
   "source": [
    "store_items.dropna(axis=0)"
   ],
   "metadata": {
    "collapsed": false,
    "pycharm": {
     "name": "#%%\n"
    }
   }
  },
  {
   "cell_type": "code",
   "execution_count": 2004,
   "outputs": [
    {
     "data": {
      "text/plain": "         bikes  pants  watches  shoes\nstore 1     20     30       35      8\nstore 2     15      5       10      5\nstore 3     20     30       35     10",
      "text/html": "<div>\n<style scoped>\n    .dataframe tbody tr th:only-of-type {\n        vertical-align: middle;\n    }\n\n    .dataframe tbody tr th {\n        vertical-align: top;\n    }\n\n    .dataframe thead th {\n        text-align: right;\n    }\n</style>\n<table border=\"1\" class=\"dataframe\">\n  <thead>\n    <tr style=\"text-align: right;\">\n      <th></th>\n      <th>bikes</th>\n      <th>pants</th>\n      <th>watches</th>\n      <th>shoes</th>\n    </tr>\n  </thead>\n  <tbody>\n    <tr>\n      <th>store 1</th>\n      <td>20</td>\n      <td>30</td>\n      <td>35</td>\n      <td>8</td>\n    </tr>\n    <tr>\n      <th>store 2</th>\n      <td>15</td>\n      <td>5</td>\n      <td>10</td>\n      <td>5</td>\n    </tr>\n    <tr>\n      <th>store 3</th>\n      <td>20</td>\n      <td>30</td>\n      <td>35</td>\n      <td>10</td>\n    </tr>\n  </tbody>\n</table>\n</div>"
     },
     "execution_count": 2004,
     "metadata": {},
     "output_type": "execute_result"
    }
   ],
   "source": [
    "store_items.dropna(axis=1)"
   ],
   "metadata": {
    "collapsed": false,
    "pycharm": {
     "name": "#%%\n"
    }
   }
  },
  {
   "cell_type": "code",
   "execution_count": 2005,
   "outputs": [],
   "source": [
    "##store_items.dropna(axis=1, inplace=True)\n",
    "##store_items"
   ],
   "metadata": {
    "collapsed": false,
    "pycharm": {
     "name": "#%%\n"
    }
   }
  },
  {
   "cell_type": "code",
   "execution_count": 2006,
   "outputs": [],
   "source": [
    "# store_items = store_items.fillna(0)\n",
    "# store_items"
   ],
   "metadata": {
    "collapsed": false,
    "pycharm": {
     "name": "#%%\n"
    }
   }
  },
  {
   "cell_type": "code",
   "execution_count": 2007,
   "outputs": [
    {
     "data": {
      "text/plain": "         bikes  pants  watches  shirts  shoes  suits  glasses\nstore 1     20     30       35    15.0      8   45.0      NaN\nstore 2     15      5       10     2.0      5    7.0     50.0\nstore 3     20     30       35     2.0     10    7.0      4.0",
      "text/html": "<div>\n<style scoped>\n    .dataframe tbody tr th:only-of-type {\n        vertical-align: middle;\n    }\n\n    .dataframe tbody tr th {\n        vertical-align: top;\n    }\n\n    .dataframe thead th {\n        text-align: right;\n    }\n</style>\n<table border=\"1\" class=\"dataframe\">\n  <thead>\n    <tr style=\"text-align: right;\">\n      <th></th>\n      <th>bikes</th>\n      <th>pants</th>\n      <th>watches</th>\n      <th>shirts</th>\n      <th>shoes</th>\n      <th>suits</th>\n      <th>glasses</th>\n    </tr>\n  </thead>\n  <tbody>\n    <tr>\n      <th>store 1</th>\n      <td>20</td>\n      <td>30</td>\n      <td>35</td>\n      <td>15.0</td>\n      <td>8</td>\n      <td>45.0</td>\n      <td>NaN</td>\n    </tr>\n    <tr>\n      <th>store 2</th>\n      <td>15</td>\n      <td>5</td>\n      <td>10</td>\n      <td>2.0</td>\n      <td>5</td>\n      <td>7.0</td>\n      <td>50.0</td>\n    </tr>\n    <tr>\n      <th>store 3</th>\n      <td>20</td>\n      <td>30</td>\n      <td>35</td>\n      <td>2.0</td>\n      <td>10</td>\n      <td>7.0</td>\n      <td>4.0</td>\n    </tr>\n  </tbody>\n</table>\n</div>"
     },
     "execution_count": 2007,
     "metadata": {},
     "output_type": "execute_result"
    }
   ],
   "source": [
    "store_items = store_items.fillna(method='ffill', axis=0)\n",
    "store_items"
   ],
   "metadata": {
    "collapsed": false,
    "pycharm": {
     "name": "#%%\n"
    }
   }
  },
  {
   "cell_type": "code",
   "execution_count": 2008,
   "outputs": [
    {
     "data": {
      "text/plain": "         bikes  pants  watches  shirts  shoes  suits  glasses\nstore 1   20.0   30.0     35.0    15.0    8.0   45.0     45.0\nstore 2   15.0    5.0     10.0     2.0    5.0    7.0     50.0\nstore 3   20.0   30.0     35.0     2.0   10.0    7.0      4.0",
      "text/html": "<div>\n<style scoped>\n    .dataframe tbody tr th:only-of-type {\n        vertical-align: middle;\n    }\n\n    .dataframe tbody tr th {\n        vertical-align: top;\n    }\n\n    .dataframe thead th {\n        text-align: right;\n    }\n</style>\n<table border=\"1\" class=\"dataframe\">\n  <thead>\n    <tr style=\"text-align: right;\">\n      <th></th>\n      <th>bikes</th>\n      <th>pants</th>\n      <th>watches</th>\n      <th>shirts</th>\n      <th>shoes</th>\n      <th>suits</th>\n      <th>glasses</th>\n    </tr>\n  </thead>\n  <tbody>\n    <tr>\n      <th>store 1</th>\n      <td>20.0</td>\n      <td>30.0</td>\n      <td>35.0</td>\n      <td>15.0</td>\n      <td>8.0</td>\n      <td>45.0</td>\n      <td>45.0</td>\n    </tr>\n    <tr>\n      <th>store 2</th>\n      <td>15.0</td>\n      <td>5.0</td>\n      <td>10.0</td>\n      <td>2.0</td>\n      <td>5.0</td>\n      <td>7.0</td>\n      <td>50.0</td>\n    </tr>\n    <tr>\n      <th>store 3</th>\n      <td>20.0</td>\n      <td>30.0</td>\n      <td>35.0</td>\n      <td>2.0</td>\n      <td>10.0</td>\n      <td>7.0</td>\n      <td>4.0</td>\n    </tr>\n  </tbody>\n</table>\n</div>"
     },
     "execution_count": 2008,
     "metadata": {},
     "output_type": "execute_result"
    }
   ],
   "source": [
    "store_items = store_items.fillna(method='ffill', axis=1)\n",
    "store_items"
   ],
   "metadata": {
    "collapsed": false,
    "pycharm": {
     "name": "#%%\n"
    }
   }
  },
  {
   "cell_type": "markdown",
   "source": [
    "#### LOADING DATA INTO A PANDAS DATAFRAME"
   ],
   "metadata": {
    "collapsed": false,
    "pycharm": {
     "name": "#%% md\n"
    }
   }
  },
  {
   "cell_type": "code",
   "execution_count": 2009,
   "outputs": [
    {
     "data": {
      "text/plain": "            Date         Open         High          Low        Close  \\\n0     2004-08-20    50.316402    54.336334    50.062355    53.952770   \n1     2004-08-23    55.168217    56.528118    54.321388    54.495735   \n2     2004-08-24    55.412300    55.591629    51.591621    52.239197   \n3     2004-08-25    52.284027    53.798351    51.746044    52.802086   \n4     2004-08-26    52.279045    53.773445    52.134586    53.753517   \n...          ...          ...          ...          ...          ...   \n4211  2021-05-13  2261.090088  2276.601074  2242.719971  2261.969971   \n4212  2021-05-14  2291.830078  2321.139893  2283.320068  2316.159912   \n4213  2021-05-17  2309.320068  2323.340088  2295.000000  2321.409912   \n4214  2021-05-18  2336.906006  2343.149902  2303.159912  2303.429932   \n4215  2021-05-19  2264.399902  2316.760010  2263.520020  2308.709961   \n\n        Adj Close    Volume  \n0       53.952770  22942874  \n1       54.495735  18342897  \n2       52.239197  15319808  \n3       52.802086   9232276  \n4       53.753517   7128620  \n...           ...       ...  \n4211  2261.969971   1333500  \n4212  2316.159912   1330100  \n4213  2321.409912    992100  \n4214  2303.429932    864400  \n4215  2308.709961    943546  \n\n[4216 rows x 7 columns]",
      "text/html": "<div>\n<style scoped>\n    .dataframe tbody tr th:only-of-type {\n        vertical-align: middle;\n    }\n\n    .dataframe tbody tr th {\n        vertical-align: top;\n    }\n\n    .dataframe thead th {\n        text-align: right;\n    }\n</style>\n<table border=\"1\" class=\"dataframe\">\n  <thead>\n    <tr style=\"text-align: right;\">\n      <th></th>\n      <th>Date</th>\n      <th>Open</th>\n      <th>High</th>\n      <th>Low</th>\n      <th>Close</th>\n      <th>Adj Close</th>\n      <th>Volume</th>\n    </tr>\n  </thead>\n  <tbody>\n    <tr>\n      <th>0</th>\n      <td>2004-08-20</td>\n      <td>50.316402</td>\n      <td>54.336334</td>\n      <td>50.062355</td>\n      <td>53.952770</td>\n      <td>53.952770</td>\n      <td>22942874</td>\n    </tr>\n    <tr>\n      <th>1</th>\n      <td>2004-08-23</td>\n      <td>55.168217</td>\n      <td>56.528118</td>\n      <td>54.321388</td>\n      <td>54.495735</td>\n      <td>54.495735</td>\n      <td>18342897</td>\n    </tr>\n    <tr>\n      <th>2</th>\n      <td>2004-08-24</td>\n      <td>55.412300</td>\n      <td>55.591629</td>\n      <td>51.591621</td>\n      <td>52.239197</td>\n      <td>52.239197</td>\n      <td>15319808</td>\n    </tr>\n    <tr>\n      <th>3</th>\n      <td>2004-08-25</td>\n      <td>52.284027</td>\n      <td>53.798351</td>\n      <td>51.746044</td>\n      <td>52.802086</td>\n      <td>52.802086</td>\n      <td>9232276</td>\n    </tr>\n    <tr>\n      <th>4</th>\n      <td>2004-08-26</td>\n      <td>52.279045</td>\n      <td>53.773445</td>\n      <td>52.134586</td>\n      <td>53.753517</td>\n      <td>53.753517</td>\n      <td>7128620</td>\n    </tr>\n    <tr>\n      <th>...</th>\n      <td>...</td>\n      <td>...</td>\n      <td>...</td>\n      <td>...</td>\n      <td>...</td>\n      <td>...</td>\n      <td>...</td>\n    </tr>\n    <tr>\n      <th>4211</th>\n      <td>2021-05-13</td>\n      <td>2261.090088</td>\n      <td>2276.601074</td>\n      <td>2242.719971</td>\n      <td>2261.969971</td>\n      <td>2261.969971</td>\n      <td>1333500</td>\n    </tr>\n    <tr>\n      <th>4212</th>\n      <td>2021-05-14</td>\n      <td>2291.830078</td>\n      <td>2321.139893</td>\n      <td>2283.320068</td>\n      <td>2316.159912</td>\n      <td>2316.159912</td>\n      <td>1330100</td>\n    </tr>\n    <tr>\n      <th>4213</th>\n      <td>2021-05-17</td>\n      <td>2309.320068</td>\n      <td>2323.340088</td>\n      <td>2295.000000</td>\n      <td>2321.409912</td>\n      <td>2321.409912</td>\n      <td>992100</td>\n    </tr>\n    <tr>\n      <th>4214</th>\n      <td>2021-05-18</td>\n      <td>2336.906006</td>\n      <td>2343.149902</td>\n      <td>2303.159912</td>\n      <td>2303.429932</td>\n      <td>2303.429932</td>\n      <td>864400</td>\n    </tr>\n    <tr>\n      <th>4215</th>\n      <td>2021-05-19</td>\n      <td>2264.399902</td>\n      <td>2316.760010</td>\n      <td>2263.520020</td>\n      <td>2308.709961</td>\n      <td>2308.709961</td>\n      <td>943546</td>\n    </tr>\n  </tbody>\n</table>\n<p>4216 rows × 7 columns</p>\n</div>"
     },
     "execution_count": 2009,
     "metadata": {},
     "output_type": "execute_result"
    }
   ],
   "source": [
    "google_stock = pd.read_csv('./GOOG.csv')\n",
    "google_stock"
   ],
   "metadata": {
    "collapsed": false,
    "pycharm": {
     "name": "#%%\n"
    }
   }
  },
  {
   "cell_type": "code",
   "execution_count": 2010,
   "outputs": [
    {
     "data": {
      "text/plain": "         Date       Open       High        Low      Close  Adj Close    Volume\n0  2004-08-20  50.316402  54.336334  50.062355  53.952770  53.952770  22942874\n1  2004-08-23  55.168217  56.528118  54.321388  54.495735  54.495735  18342897\n2  2004-08-24  55.412300  55.591629  51.591621  52.239197  52.239197  15319808\n3  2004-08-25  52.284027  53.798351  51.746044  52.802086  52.802086   9232276\n4  2004-08-26  52.279045  53.773445  52.134586  53.753517  53.753517   7128620",
      "text/html": "<div>\n<style scoped>\n    .dataframe tbody tr th:only-of-type {\n        vertical-align: middle;\n    }\n\n    .dataframe tbody tr th {\n        vertical-align: top;\n    }\n\n    .dataframe thead th {\n        text-align: right;\n    }\n</style>\n<table border=\"1\" class=\"dataframe\">\n  <thead>\n    <tr style=\"text-align: right;\">\n      <th></th>\n      <th>Date</th>\n      <th>Open</th>\n      <th>High</th>\n      <th>Low</th>\n      <th>Close</th>\n      <th>Adj Close</th>\n      <th>Volume</th>\n    </tr>\n  </thead>\n  <tbody>\n    <tr>\n      <th>0</th>\n      <td>2004-08-20</td>\n      <td>50.316402</td>\n      <td>54.336334</td>\n      <td>50.062355</td>\n      <td>53.952770</td>\n      <td>53.952770</td>\n      <td>22942874</td>\n    </tr>\n    <tr>\n      <th>1</th>\n      <td>2004-08-23</td>\n      <td>55.168217</td>\n      <td>56.528118</td>\n      <td>54.321388</td>\n      <td>54.495735</td>\n      <td>54.495735</td>\n      <td>18342897</td>\n    </tr>\n    <tr>\n      <th>2</th>\n      <td>2004-08-24</td>\n      <td>55.412300</td>\n      <td>55.591629</td>\n      <td>51.591621</td>\n      <td>52.239197</td>\n      <td>52.239197</td>\n      <td>15319808</td>\n    </tr>\n    <tr>\n      <th>3</th>\n      <td>2004-08-25</td>\n      <td>52.284027</td>\n      <td>53.798351</td>\n      <td>51.746044</td>\n      <td>52.802086</td>\n      <td>52.802086</td>\n      <td>9232276</td>\n    </tr>\n    <tr>\n      <th>4</th>\n      <td>2004-08-26</td>\n      <td>52.279045</td>\n      <td>53.773445</td>\n      <td>52.134586</td>\n      <td>53.753517</td>\n      <td>53.753517</td>\n      <td>7128620</td>\n    </tr>\n  </tbody>\n</table>\n</div>"
     },
     "execution_count": 2010,
     "metadata": {},
     "output_type": "execute_result"
    }
   ],
   "source": [
    "google_stock.head()"
   ],
   "metadata": {
    "collapsed": false,
    "pycharm": {
     "name": "#%%\n"
    }
   }
  },
  {
   "cell_type": "code",
   "execution_count": 2011,
   "outputs": [
    {
     "data": {
      "text/plain": "            Date         Open         High          Low        Close  \\\n4211  2021-05-13  2261.090088  2276.601074  2242.719971  2261.969971   \n4212  2021-05-14  2291.830078  2321.139893  2283.320068  2316.159912   \n4213  2021-05-17  2309.320068  2323.340088  2295.000000  2321.409912   \n4214  2021-05-18  2336.906006  2343.149902  2303.159912  2303.429932   \n4215  2021-05-19  2264.399902  2316.760010  2263.520020  2308.709961   \n\n        Adj Close   Volume  \n4211  2261.969971  1333500  \n4212  2316.159912  1330100  \n4213  2321.409912   992100  \n4214  2303.429932   864400  \n4215  2308.709961   943546  ",
      "text/html": "<div>\n<style scoped>\n    .dataframe tbody tr th:only-of-type {\n        vertical-align: middle;\n    }\n\n    .dataframe tbody tr th {\n        vertical-align: top;\n    }\n\n    .dataframe thead th {\n        text-align: right;\n    }\n</style>\n<table border=\"1\" class=\"dataframe\">\n  <thead>\n    <tr style=\"text-align: right;\">\n      <th></th>\n      <th>Date</th>\n      <th>Open</th>\n      <th>High</th>\n      <th>Low</th>\n      <th>Close</th>\n      <th>Adj Close</th>\n      <th>Volume</th>\n    </tr>\n  </thead>\n  <tbody>\n    <tr>\n      <th>4211</th>\n      <td>2021-05-13</td>\n      <td>2261.090088</td>\n      <td>2276.601074</td>\n      <td>2242.719971</td>\n      <td>2261.969971</td>\n      <td>2261.969971</td>\n      <td>1333500</td>\n    </tr>\n    <tr>\n      <th>4212</th>\n      <td>2021-05-14</td>\n      <td>2291.830078</td>\n      <td>2321.139893</td>\n      <td>2283.320068</td>\n      <td>2316.159912</td>\n      <td>2316.159912</td>\n      <td>1330100</td>\n    </tr>\n    <tr>\n      <th>4213</th>\n      <td>2021-05-17</td>\n      <td>2309.320068</td>\n      <td>2323.340088</td>\n      <td>2295.000000</td>\n      <td>2321.409912</td>\n      <td>2321.409912</td>\n      <td>992100</td>\n    </tr>\n    <tr>\n      <th>4214</th>\n      <td>2021-05-18</td>\n      <td>2336.906006</td>\n      <td>2343.149902</td>\n      <td>2303.159912</td>\n      <td>2303.429932</td>\n      <td>2303.429932</td>\n      <td>864400</td>\n    </tr>\n    <tr>\n      <th>4215</th>\n      <td>2021-05-19</td>\n      <td>2264.399902</td>\n      <td>2316.760010</td>\n      <td>2263.520020</td>\n      <td>2308.709961</td>\n      <td>2308.709961</td>\n      <td>943546</td>\n    </tr>\n  </tbody>\n</table>\n</div>"
     },
     "execution_count": 2011,
     "metadata": {},
     "output_type": "execute_result"
    }
   ],
   "source": [
    "google_stock.tail()"
   ],
   "metadata": {
    "collapsed": false,
    "pycharm": {
     "name": "#%%\n"
    }
   }
  },
  {
   "cell_type": "code",
   "execution_count": 2012,
   "outputs": [
    {
     "data": {
      "text/plain": "Date         False\nOpen         False\nHigh         False\nLow          False\nClose        False\nAdj Close    False\nVolume       False\ndtype: bool"
     },
     "execution_count": 2012,
     "metadata": {},
     "output_type": "execute_result"
    }
   ],
   "source": [
    "google_stock.isnull().any()"
   ],
   "metadata": {
    "collapsed": false,
    "pycharm": {
     "name": "#%%\n"
    }
   }
  },
  {
   "cell_type": "code",
   "execution_count": 2013,
   "outputs": [
    {
     "data": {
      "text/plain": "count    4216.000000\nmean      585.575104\nstd       464.904377\nmin        49.818268\n25%       242.594445\n50%       372.082840\n75%       829.807526\nmax      2429.889893\nName: Adj Close, dtype: float64"
     },
     "execution_count": 2013,
     "metadata": {},
     "output_type": "execute_result"
    }
   ],
   "source": [
    "google_stock['Adj Close'].describe()"
   ],
   "metadata": {
    "collapsed": false,
    "pycharm": {
     "name": "#%%\n"
    }
   }
  },
  {
   "cell_type": "code",
   "execution_count": 2014,
   "outputs": [
    {
     "data": {
      "text/plain": "              Open         High          Low        Close    Adj Close  \\\ncount  4216.000000  4216.000000  4216.000000  4216.000000  4216.000000   \nmean    585.391795   591.148159   579.689011   585.575104   585.575104   \nstd     464.288073   469.273706   460.125847   464.904377   464.904377   \nmin      49.409801    50.680038    49.285267    49.818268    49.818268   \n25%     242.767548   245.325462   240.060200   242.594445   242.594445   \n50%     371.283341   376.573502   368.810104   372.082840   372.082840   \n75%     828.707474   833.289993   825.232743   829.807526   829.807526   \nmax    2410.330078  2452.377930  2402.280029  2429.889893  2429.889893   \n\n             Volume  \ncount  4.216000e+03  \nmean   6.643241e+06  \nstd    7.856374e+06  \nmin    7.922000e+03  \n25%    1.647350e+06  \n50%    3.968118e+06  \n75%    8.480418e+06  \nmax    8.254163e+07  ",
      "text/html": "<div>\n<style scoped>\n    .dataframe tbody tr th:only-of-type {\n        vertical-align: middle;\n    }\n\n    .dataframe tbody tr th {\n        vertical-align: top;\n    }\n\n    .dataframe thead th {\n        text-align: right;\n    }\n</style>\n<table border=\"1\" class=\"dataframe\">\n  <thead>\n    <tr style=\"text-align: right;\">\n      <th></th>\n      <th>Open</th>\n      <th>High</th>\n      <th>Low</th>\n      <th>Close</th>\n      <th>Adj Close</th>\n      <th>Volume</th>\n    </tr>\n  </thead>\n  <tbody>\n    <tr>\n      <th>count</th>\n      <td>4216.000000</td>\n      <td>4216.000000</td>\n      <td>4216.000000</td>\n      <td>4216.000000</td>\n      <td>4216.000000</td>\n      <td>4.216000e+03</td>\n    </tr>\n    <tr>\n      <th>mean</th>\n      <td>585.391795</td>\n      <td>591.148159</td>\n      <td>579.689011</td>\n      <td>585.575104</td>\n      <td>585.575104</td>\n      <td>6.643241e+06</td>\n    </tr>\n    <tr>\n      <th>std</th>\n      <td>464.288073</td>\n      <td>469.273706</td>\n      <td>460.125847</td>\n      <td>464.904377</td>\n      <td>464.904377</td>\n      <td>7.856374e+06</td>\n    </tr>\n    <tr>\n      <th>min</th>\n      <td>49.409801</td>\n      <td>50.680038</td>\n      <td>49.285267</td>\n      <td>49.818268</td>\n      <td>49.818268</td>\n      <td>7.922000e+03</td>\n    </tr>\n    <tr>\n      <th>25%</th>\n      <td>242.767548</td>\n      <td>245.325462</td>\n      <td>240.060200</td>\n      <td>242.594445</td>\n      <td>242.594445</td>\n      <td>1.647350e+06</td>\n    </tr>\n    <tr>\n      <th>50%</th>\n      <td>371.283341</td>\n      <td>376.573502</td>\n      <td>368.810104</td>\n      <td>372.082840</td>\n      <td>372.082840</td>\n      <td>3.968118e+06</td>\n    </tr>\n    <tr>\n      <th>75%</th>\n      <td>828.707474</td>\n      <td>833.289993</td>\n      <td>825.232743</td>\n      <td>829.807526</td>\n      <td>829.807526</td>\n      <td>8.480418e+06</td>\n    </tr>\n    <tr>\n      <th>max</th>\n      <td>2410.330078</td>\n      <td>2452.377930</td>\n      <td>2402.280029</td>\n      <td>2429.889893</td>\n      <td>2429.889893</td>\n      <td>8.254163e+07</td>\n    </tr>\n  </tbody>\n</table>\n</div>"
     },
     "execution_count": 2014,
     "metadata": {},
     "output_type": "execute_result"
    }
   ],
   "source": [
    "google_stock.describe()"
   ],
   "metadata": {
    "collapsed": false,
    "pycharm": {
     "name": "#%%\n"
    }
   }
  },
  {
   "cell_type": "code",
   "execution_count": 2015,
   "outputs": [
    {
     "data": {
      "text/plain": "Date          2021-05-19\nOpen         2410.330078\nHigh          2452.37793\nLow          2402.280029\nClose        2429.889893\nAdj Close    2429.889893\nVolume          82541631\ndtype: object"
     },
     "execution_count": 2015,
     "metadata": {},
     "output_type": "execute_result"
    }
   ],
   "source": [
    "google_stock.max()"
   ],
   "metadata": {
    "collapsed": false,
    "pycharm": {
     "name": "#%%\n"
    }
   }
  },
  {
   "cell_type": "code",
   "execution_count": 2016,
   "outputs": [
    {
     "data": {
      "text/plain": "Date         2004-08-20\nOpen          49.409801\nHigh          50.680038\nLow           49.285267\nClose         49.818268\nAdj Close     49.818268\nVolume             7922\ndtype: object"
     },
     "execution_count": 2016,
     "metadata": {},
     "output_type": "execute_result"
    }
   ],
   "source": [
    "google_stock.min()"
   ],
   "metadata": {
    "collapsed": false,
    "pycharm": {
     "name": "#%%\n"
    }
   }
  },
  {
   "cell_type": "code",
   "execution_count": 2017,
   "outputs": [
    {
     "data": {
      "text/plain": "49.818268"
     },
     "execution_count": 2017,
     "metadata": {},
     "output_type": "execute_result"
    }
   ],
   "source": [
    "google_stock['Close'].min()"
   ],
   "metadata": {
    "collapsed": false,
    "pycharm": {
     "name": "#%%\n"
    }
   }
  },
  {
   "cell_type": "code",
   "execution_count": 2018,
   "outputs": [
    {
     "data": {
      "text/plain": "               Open      High       Low     Close  Adj Close    Volume\nOpen       1.000000  0.999900  0.999878  0.999780   0.999780 -0.508078\nHigh       0.999900  1.000000  0.999845  0.999886   0.999886 -0.506377\nLow        0.999878  0.999845  1.000000  0.999902   0.999902 -0.509848\nClose      0.999780  0.999886  0.999902  1.000000   1.000000 -0.508197\nAdj Close  0.999780  0.999886  0.999902  1.000000   1.000000 -0.508197\nVolume    -0.508078 -0.506377 -0.509848 -0.508197  -0.508197  1.000000",
      "text/html": "<div>\n<style scoped>\n    .dataframe tbody tr th:only-of-type {\n        vertical-align: middle;\n    }\n\n    .dataframe tbody tr th {\n        vertical-align: top;\n    }\n\n    .dataframe thead th {\n        text-align: right;\n    }\n</style>\n<table border=\"1\" class=\"dataframe\">\n  <thead>\n    <tr style=\"text-align: right;\">\n      <th></th>\n      <th>Open</th>\n      <th>High</th>\n      <th>Low</th>\n      <th>Close</th>\n      <th>Adj Close</th>\n      <th>Volume</th>\n    </tr>\n  </thead>\n  <tbody>\n    <tr>\n      <th>Open</th>\n      <td>1.000000</td>\n      <td>0.999900</td>\n      <td>0.999878</td>\n      <td>0.999780</td>\n      <td>0.999780</td>\n      <td>-0.508078</td>\n    </tr>\n    <tr>\n      <th>High</th>\n      <td>0.999900</td>\n      <td>1.000000</td>\n      <td>0.999845</td>\n      <td>0.999886</td>\n      <td>0.999886</td>\n      <td>-0.506377</td>\n    </tr>\n    <tr>\n      <th>Low</th>\n      <td>0.999878</td>\n      <td>0.999845</td>\n      <td>1.000000</td>\n      <td>0.999902</td>\n      <td>0.999902</td>\n      <td>-0.509848</td>\n    </tr>\n    <tr>\n      <th>Close</th>\n      <td>0.999780</td>\n      <td>0.999886</td>\n      <td>0.999902</td>\n      <td>1.000000</td>\n      <td>1.000000</td>\n      <td>-0.508197</td>\n    </tr>\n    <tr>\n      <th>Adj Close</th>\n      <td>0.999780</td>\n      <td>0.999886</td>\n      <td>0.999902</td>\n      <td>1.000000</td>\n      <td>1.000000</td>\n      <td>-0.508197</td>\n    </tr>\n    <tr>\n      <th>Volume</th>\n      <td>-0.508078</td>\n      <td>-0.506377</td>\n      <td>-0.509848</td>\n      <td>-0.508197</td>\n      <td>-0.508197</td>\n      <td>1.000000</td>\n    </tr>\n  </tbody>\n</table>\n</div>"
     },
     "execution_count": 2018,
     "metadata": {},
     "output_type": "execute_result"
    }
   ],
   "source": [
    "google_stock.corr()"
   ],
   "metadata": {
    "collapsed": false,
    "pycharm": {
     "name": "#%%\n"
    }
   }
  }
 ],
 "metadata": {
  "kernelspec": {
   "display_name": "Python 3",
   "language": "python",
   "name": "python3"
  },
  "language_info": {
   "codemirror_mode": {
    "name": "ipython",
    "version": 2
   },
   "file_extension": ".py",
   "mimetype": "text/x-python",
   "name": "python",
   "nbconvert_exporter": "python",
   "pygments_lexer": "ipython2",
   "version": "2.7.6"
  }
 },
 "nbformat": 4,
 "nbformat_minor": 0
}